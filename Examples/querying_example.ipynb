{
 "cells": [
  {
   "cell_type": "markdown",
   "metadata": {},
   "source": [
    "# Querying the database and using phonopy"
   ]
  },
  {
   "cell_type": "code",
   "execution_count": null,
   "metadata": {},
   "outputs": [],
   "source": [
    "# Imports\n",
    "import phonopy\n",
    "from monty.serialization import loadfn\n",
    "import pandas as pd\n"
   ]
  },
  {
   "cell_type": "code",
   "execution_count": null,
   "metadata": {},
   "outputs": [],
   "source": [
    "# Load the json file\n",
    "lookup_json = loadfn('../phonon_db_lookup.json')\n",
    "\n",
    "# Create a dataframe\n",
    "\n",
    "df = pd.DataFrame(lookup_json)\n",
    "\n",
    "df.head()"
   ]
  },
  {
   "cell_type": "markdown",
   "metadata": {},
   "source": [
    "## Example query\n",
    "\n",
    "We're going to query for all the Li-containing materials in this database"
   ]
  },
  {
   "cell_type": "code",
   "execution_count": null,
   "metadata": {},
   "outputs": [],
   "source": [
    "def element_filtered_dataframe(df, element):\n",
    "    \"\"\"A function which filters a dataframe for a particular element and returns a new dataframe with only entries containing that element.\n",
    "    \n",
    "    Input:\n",
    "        df (pd.DataFrame): The original dataframe which describes the database\n",
    "        element (str): The element which you want to query the dataframe for.\n",
    "    Output:\n",
    "        filtered_df (pd.DataFrame): A new dataframe with only entries which contain the element of interest\"\"\"\n",
    "    \n",
    "    return df.loc[df['chemsys'].str.contains(element)].reset_index(drop=True)\n",
    "\n",
    "Li_df = element_filtered_dataframe(df,'Li')\n",
    "print(f'Of the {df.shape[0]} materials in this dataset, {Li_df.shape[0]} contain lithium \\n')\n",
    "\n",
    "Li_df.head()\n"
   ]
  },
  {
   "cell_type": "markdown",
   "metadata": {},
   "source": [
    "## Phonopy\n",
    "The two columns of interest `FORCE_SETS_filepath` and `phonon_filepath` are needed in order to load in the data into phonopy"
   ]
  },
  {
   "cell_type": "code",
   "execution_count": null,
   "metadata": {},
   "outputs": [],
   "source": [
    "# Grab the filepath for the first Li material in our dataset\n",
    "\n",
    "phonon_filepath = Li_df['phonon_filepath'][0]\n",
    "force_sets_filepath = Li_df['FORCE_SETS_filepath'][0]\n",
    "\n",
    "# Load the data\n",
    "ph = phonopy.load(phonon_filepath, force_sets_filename=force_sets_filepath, log_level=1)"
   ]
  },
  {
   "cell_type": "code",
   "execution_count": null,
   "metadata": {},
   "outputs": [],
   "source": [
    "ph.auto_projected_dos(plot=True).show()"
   ]
  },
  {
   "cell_type": "code",
   "execution_count": null,
   "metadata": {},
   "outputs": [],
   "source": [
    "ph.auto_total_dos(plot=True).show()"
   ]
  }
 ],
 "metadata": {
  "kernelspec": {
   "display_name": "Python 3.8.13 ('web_scraping')",
   "language": "python",
   "name": "python3"
  },
  "language_info": {
   "name": "python",
   "version": "3.8.13"
  },
  "orig_nbformat": 4,
  "vscode": {
   "interpreter": {
    "hash": "a9501fcef91a0f6f73395abcba1f3e7a031e702fa1289d926d620e4dc9824ed4"
   }
  }
 },
 "nbformat": 4,
 "nbformat_minor": 2
}
